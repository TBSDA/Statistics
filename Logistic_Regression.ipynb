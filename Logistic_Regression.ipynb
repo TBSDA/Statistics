{
 "cells": [
  {
   "cell_type": "markdown",
   "id": "metropolitan-intellectual",
   "metadata": {},
   "source": [
    "# Logistic Regression"
   ]
  },
  {
   "cell_type": "markdown",
   "id": "ambient-concept",
   "metadata": {},
   "source": [
    "Logistic Regression is used to estimate the probability of belonging the sample to specific class."
   ]
  },
  {
   "cell_type": "code",
   "execution_count": 196,
   "id": "excessive-california",
   "metadata": {},
   "outputs": [],
   "source": [
    "import pandas as pd\n",
    "import numpy as np\n",
    "from sklearn import datasets\n",
    "from sklearn.linear_model import LogisticRegression\n",
    "from sklearn.model_selection import train_test_split\n",
    "import seaborn as sns\n",
    "import matplotlib.pyplot as plt"
   ]
  },
  {
   "cell_type": "code",
   "execution_count": 197,
   "id": "shared-illinois",
   "metadata": {},
   "outputs": [],
   "source": [
    "np.random.seed(42)"
   ]
  },
  {
   "cell_type": "markdown",
   "id": "individual-settle",
   "metadata": {},
   "source": [
    "Let's use already prepared breast cancer data from sklearn datasets."
   ]
  },
  {
   "cell_type": "code",
   "execution_count": 198,
   "id": "polyphonic-fraud",
   "metadata": {},
   "outputs": [],
   "source": [
    "breast_cancer = datasets.load_breast_cancer()"
   ]
  },
  {
   "cell_type": "code",
   "execution_count": 199,
   "id": "about-buffer",
   "metadata": {},
   "outputs": [
    {
     "data": {
      "text/plain": [
       "dict_keys(['data', 'target', 'frame', 'target_names', 'DESCR', 'feature_names', 'filename'])"
      ]
     },
     "execution_count": 199,
     "metadata": {},
     "output_type": "execute_result"
    }
   ],
   "source": [
    "breast_cancer.keys()"
   ]
  },
  {
   "cell_type": "markdown",
   "id": "mobile-capital",
   "metadata": {},
   "source": [
    "Separate the data. For prediction only one feature will be used - mean radius."
   ]
  },
  {
   "cell_type": "code",
   "execution_count": 200,
   "id": "swiss-spencer",
   "metadata": {},
   "outputs": [],
   "source": [
    "X = breast_cancer['data'][:, 0].reshape(-1, 1)"
   ]
  },
  {
   "cell_type": "code",
   "execution_count": 201,
   "id": "assured-saying",
   "metadata": {},
   "outputs": [],
   "source": [
    "y = breast_cancer['target']"
   ]
  },
  {
   "cell_type": "markdown",
   "id": "blond-framing",
   "metadata": {},
   "source": [
    "Simpler way to load already separated data."
   ]
  },
  {
   "cell_type": "code",
   "execution_count": 202,
   "id": "reserved-particle",
   "metadata": {},
   "outputs": [],
   "source": [
    "# X, y = datasets.load_breast_cancer(return_X_y=True)"
   ]
  },
  {
   "cell_type": "markdown",
   "id": "informal-membrane",
   "metadata": {},
   "source": [
    "Split the data into train set and test set."
   ]
  },
  {
   "cell_type": "code",
   "execution_count": 203,
   "id": "round-crack",
   "metadata": {},
   "outputs": [],
   "source": [
    "X_train, X_test, y_train, y_test = train_test_split(X, y)"
   ]
  },
  {
   "cell_type": "markdown",
   "id": "tough-prefix",
   "metadata": {},
   "source": [
    "Fit the logistic regression model."
   ]
  },
  {
   "cell_type": "code",
   "execution_count": 204,
   "id": "spectacular-ukraine",
   "metadata": {},
   "outputs": [
    {
     "data": {
      "text/plain": [
       "LogisticRegression(max_iter=2500)"
      ]
     },
     "execution_count": 204,
     "metadata": {},
     "output_type": "execute_result"
    }
   ],
   "source": [
    "log_r = LogisticRegression(max_iter=2500)\n",
    "log_r.fit(X_train, y_train)"
   ]
  },
  {
   "cell_type": "markdown",
   "id": "proud-harbor",
   "metadata": {},
   "source": [
    "Predict the values."
   ]
  },
  {
   "cell_type": "code",
   "execution_count": 205,
   "id": "temporal-dress",
   "metadata": {},
   "outputs": [],
   "source": [
    "y_pred = log_r.predict(X_test)"
   ]
  },
  {
   "cell_type": "code",
   "execution_count": 206,
   "id": "virtual-giving",
   "metadata": {},
   "outputs": [
    {
     "data": {
      "text/plain": [
       "array([1, 0, 0, 1, 1, 0, 0, 0, 1, 1, 1, 0, 0, 0, 1, 0, 0, 1, 1, 0, 1, 1,\n",
       "       0, 1, 1, 1, 1, 1, 1, 0, 1, 1, 1, 1, 1, 1, 0, 1, 0, 1, 1, 0, 1, 1,\n",
       "       1, 1, 1, 1, 1, 1, 0, 0, 1, 1, 1, 1, 1, 0, 1, 1, 1, 0, 0, 1, 1, 1,\n",
       "       0, 0, 1, 1, 1, 0, 1, 0, 1, 1, 1, 1, 1, 1, 0, 1, 1, 0, 0, 0, 1, 0,\n",
       "       1, 1, 1, 1, 0, 1, 1, 1, 0, 1, 1, 0, 0, 1, 0, 0, 1, 1, 1, 0, 1, 1,\n",
       "       0, 1, 1, 0, 1, 0, 1, 1, 1, 1, 1, 1, 1, 0, 1, 0, 0, 1, 1, 0, 0, 0,\n",
       "       1, 1, 0, 0, 1, 1, 1, 1, 1, 0, 1])"
      ]
     },
     "execution_count": 206,
     "metadata": {},
     "output_type": "execute_result"
    }
   ],
   "source": [
    "y_pred"
   ]
  },
  {
   "cell_type": "code",
   "execution_count": 207,
   "id": "accepted-quantum",
   "metadata": {},
   "outputs": [
    {
     "data": {
      "text/plain": [
       "array([1, 0, 0, 1, 1, 0, 0, 0, 1, 1, 1, 0, 1, 0, 1, 0, 1, 1, 1, 0, 0, 1,\n",
       "       0, 1, 1, 1, 1, 1, 1, 0, 1, 1, 1, 1, 1, 1, 0, 1, 0, 1, 1, 0, 1, 1,\n",
       "       1, 1, 1, 1, 1, 1, 0, 0, 1, 1, 1, 1, 1, 0, 0, 1, 1, 0, 0, 1, 1, 1,\n",
       "       0, 0, 1, 1, 0, 0, 1, 0, 1, 1, 1, 0, 1, 1, 0, 1, 0, 0, 0, 0, 0, 0,\n",
       "       1, 1, 1, 1, 1, 1, 1, 1, 0, 0, 1, 0, 0, 1, 0, 0, 1, 1, 1, 0, 1, 1,\n",
       "       0, 1, 1, 0, 1, 0, 1, 1, 1, 0, 1, 1, 1, 0, 1, 0, 0, 1, 1, 0, 0, 0,\n",
       "       1, 1, 1, 0, 1, 1, 1, 0, 1, 0, 1])"
      ]
     },
     "execution_count": 207,
     "metadata": {},
     "output_type": "execute_result"
    }
   ],
   "source": [
    "y_test"
   ]
  },
  {
   "cell_type": "markdown",
   "id": "indirect-visit",
   "metadata": {},
   "source": [
    "Accuracy of the predictions."
   ]
  },
  {
   "cell_type": "code",
   "execution_count": 208,
   "id": "historic-birthday",
   "metadata": {},
   "outputs": [
    {
     "data": {
      "text/plain": [
       "0.9090909090909091"
      ]
     },
     "execution_count": 208,
     "metadata": {},
     "output_type": "execute_result"
    }
   ],
   "source": [
    "np.sum(y_pred == y_test)/y_test.shape[0]"
   ]
  },
  {
   "cell_type": "markdown",
   "id": "structural-provincial",
   "metadata": {},
   "source": [
    "Predict and return probability of each target class."
   ]
  },
  {
   "cell_type": "code",
   "execution_count": 209,
   "id": "changed-hunger",
   "metadata": {},
   "outputs": [],
   "source": [
    "y_proba = log_r.predict_proba(X_test)"
   ]
  },
  {
   "cell_type": "code",
   "execution_count": 210,
   "id": "encouraging-module",
   "metadata": {},
   "outputs": [
    {
     "data": {
      "text/plain": [
       "array([[0.10242158, 0.89757842],\n",
       "       [0.97893425, 0.02106575],\n",
       "       [0.64715279, 0.35284721],\n",
       "       [0.09659709, 0.90340291],\n",
       "       [0.04589581, 0.95410419]])"
      ]
     },
     "execution_count": 210,
     "metadata": {},
     "output_type": "execute_result"
    }
   ],
   "source": [
    "y_proba[:5]"
   ]
  },
  {
   "cell_type": "markdown",
   "id": "advanced-tunnel",
   "metadata": {},
   "source": [
    "Plot the results."
   ]
  },
  {
   "cell_type": "code",
   "execution_count": 211,
   "id": "alone-divorce",
   "metadata": {},
   "outputs": [
    {
     "data": {
      "text/plain": [
       "Text(14.7, 0, 'Decision Boundary')"
      ]
     },
     "execution_count": 211,
     "metadata": {},
     "output_type": "execute_result"
    },
    {
     "data": {
      "image/png": "[encoded data removed]",
      "text/plain": [
       "<Figure size 1080x576 with 1 Axes>"
      ]
     },
     "metadata": {
      "needs_background": "light"
     },
     "output_type": "display_data"
    }
   ],
   "source": [
    "plt.figure(figsize=(15, 8))\n",
    "plt.title(f\"Probability of breast cancer based on {breast_cancer['feature_names'][0]}\", size='x-large')\n",
    "sns.lineplot(x=X_test[:, 0], y=y_proba[:, 1], label='cancer')\n",
    "sns.lineplot(x=X_test[:, 0], y=y_proba[:, 0], label='no cancer')\n",
    "plt.ylabel('Probability')\n",
    "plt.xlabel(breast_cancer['feature_names'][0], loc='right')\n",
    "plt.axvline(x=14.804, color='Black', linewidth=0.6)\n",
    "plt.text(14.7, 0, 'Decision Boundary', ha='center', rotation=90)"
   ]
  }
 ],
 "metadata": {
  "kernelspec": {
   "display_name": "Python 3",
   "language": "python",
   "name": "python3"
  },
  "language_info": {
   "codemirror_mode": {
    "name": "ipython",
    "version": 3
   },
   "file_extension": ".py",
   "mimetype": "text/x-python",
   "name": "python",
   "nbconvert_exporter": "python",
   "pygments_lexer": "ipython3",
   "version": "3.7.6"
  }
 },
 "nbformat": 4,
 "nbformat_minor": 5
}

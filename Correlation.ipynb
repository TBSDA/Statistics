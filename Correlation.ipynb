{
 "cells": [
  {
   "cell_type": "markdown",
   "id": "monthly-reserve",
   "metadata": {},
   "source": [
    "# Correlation"
   ]
  },
  {
   "cell_type": "markdown",
   "id": "approximate-hearts",
   "metadata": {},
   "source": [
    "Check the correlation between close prices of four main US indexes: S&P 500, NASDAQ, Dow Jones and Russell 2000."
   ]
  },
  {
   "cell_type": "code",
   "execution_count": 1,
   "id": "brown-committee",
   "metadata": {},
   "outputs": [],
   "source": [
    "import pandas as pd\n",
    "import numpy as np\n",
    "import seaborn as sns\n",
    "import matplotlib.pyplot as plt"
   ]
  },
  {
   "cell_type": "markdown",
   "id": "hairy-radius",
   "metadata": {},
   "source": [
    "Read the already prepared data."
   ]
  },
  {
   "cell_type": "code",
   "execution_count": 13,
   "id": "polar-cement",
   "metadata": {},
   "outputs": [],
   "source": [
    "four_idx_1D = pd.read_csv('Data/four_main_indexes_1D.csv', index_col='Date')"
   ]
  },
  {
   "cell_type": "code",
   "execution_count": 14,
   "id": "shared-switzerland",
   "metadata": {},
   "outputs": [
    {
     "data": {
      "text/html": [
       "<div>\n",
       "<style scoped>\n",
       "    .dataframe tbody tr th:only-of-type {\n",
       "        vertical-align: middle;\n",
       "    }\n",
       "\n",
       "    .dataframe tbody tr th {\n",
       "        vertical-align: top;\n",
       "    }\n",
       "\n",
       "    .dataframe thead th {\n",
       "        text-align: right;\n",
       "    }\n",
       "</style>\n",
       "<table border=\"1\" class=\"dataframe\">\n",
       "  <thead>\n",
       "    <tr style=\"text-align: right;\">\n",
       "      <th></th>\n",
       "      <th>SP500</th>\n",
       "      <th>NASDAQ</th>\n",
       "      <th>DowJones</th>\n",
       "      <th>Russell</th>\n",
       "    </tr>\n",
       "    <tr>\n",
       "      <th>Date</th>\n",
       "      <th></th>\n",
       "      <th></th>\n",
       "      <th></th>\n",
       "      <th></th>\n",
       "    </tr>\n",
       "  </thead>\n",
       "  <tbody>\n",
       "    <tr>\n",
       "      <th>2002-07-01</th>\n",
       "      <td>968.650024</td>\n",
       "      <td>15.000000</td>\n",
       "      <td>9109.790039</td>\n",
       "      <td>447.730011</td>\n",
       "    </tr>\n",
       "    <tr>\n",
       "      <th>2002-07-02</th>\n",
       "      <td>948.090027</td>\n",
       "      <td>15.130000</td>\n",
       "      <td>9007.750000</td>\n",
       "      <td>432.839996</td>\n",
       "    </tr>\n",
       "    <tr>\n",
       "      <th>2002-07-03</th>\n",
       "      <td>953.989990</td>\n",
       "      <td>15.000000</td>\n",
       "      <td>9054.969727</td>\n",
       "      <td>429.470001</td>\n",
       "    </tr>\n",
       "    <tr>\n",
       "      <th>2002-07-05</th>\n",
       "      <td>989.030029</td>\n",
       "      <td>15.000000</td>\n",
       "      <td>9379.500000</td>\n",
       "      <td>440.920013</td>\n",
       "    </tr>\n",
       "    <tr>\n",
       "      <th>2002-07-08</th>\n",
       "      <td>976.979980</td>\n",
       "      <td>14.000000</td>\n",
       "      <td>9274.900391</td>\n",
       "      <td>433.609985</td>\n",
       "    </tr>\n",
       "    <tr>\n",
       "      <th>...</th>\n",
       "      <td>...</td>\n",
       "      <td>...</td>\n",
       "      <td>...</td>\n",
       "      <td>...</td>\n",
       "    </tr>\n",
       "    <tr>\n",
       "      <th>2021-11-15</th>\n",
       "      <td>4697.959961</td>\n",
       "      <td>209.729996</td>\n",
       "      <td>36087.449219</td>\n",
       "      <td>2400.929932</td>\n",
       "    </tr>\n",
       "    <tr>\n",
       "      <th>2021-11-16</th>\n",
       "      <td>4682.939941</td>\n",
       "      <td>211.970001</td>\n",
       "      <td>36142.218750</td>\n",
       "      <td>2405.020020</td>\n",
       "    </tr>\n",
       "    <tr>\n",
       "      <th>2021-11-17</th>\n",
       "      <td>4690.700195</td>\n",
       "      <td>209.940002</td>\n",
       "      <td>35931.050781</td>\n",
       "      <td>2377.010010</td>\n",
       "    </tr>\n",
       "    <tr>\n",
       "      <th>2021-11-18</th>\n",
       "      <td>4701.459961</td>\n",
       "      <td>208.699997</td>\n",
       "      <td>35870.949219</td>\n",
       "      <td>2363.590088</td>\n",
       "    </tr>\n",
       "    <tr>\n",
       "      <th>2021-11-19</th>\n",
       "      <td>4594.620117</td>\n",
       "      <td>207.770004</td>\n",
       "      <td>35601.980469</td>\n",
       "      <td>2343.159912</td>\n",
       "    </tr>\n",
       "  </tbody>\n",
       "</table>\n",
       "<p>4884 rows × 4 columns</p>\n",
       "</div>"
      ],
      "text/plain": [
       "                  SP500      NASDAQ      DowJones      Russell\n",
       "Date                                                          \n",
       "2002-07-01   968.650024   15.000000   9109.790039   447.730011\n",
       "2002-07-02   948.090027   15.130000   9007.750000   432.839996\n",
       "2002-07-03   953.989990   15.000000   9054.969727   429.470001\n",
       "2002-07-05   989.030029   15.000000   9379.500000   440.920013\n",
       "2002-07-08   976.979980   14.000000   9274.900391   433.609985\n",
       "...                 ...         ...           ...          ...\n",
       "2021-11-15  4697.959961  209.729996  36087.449219  2400.929932\n",
       "2021-11-16  4682.939941  211.970001  36142.218750  2405.020020\n",
       "2021-11-17  4690.700195  209.940002  35931.050781  2377.010010\n",
       "2021-11-18  4701.459961  208.699997  35870.949219  2363.590088\n",
       "2021-11-19  4594.620117  207.770004  35601.980469  2343.159912\n",
       "\n",
       "[4884 rows x 4 columns]"
      ]
     },
     "execution_count": 14,
     "metadata": {},
     "output_type": "execute_result"
    }
   ],
   "source": [
    "four_idx_1D"
   ]
  },
  {
   "cell_type": "markdown",
   "id": "novel-christian",
   "metadata": {},
   "source": [
    "Correlation calculation."
   ]
  },
  {
   "cell_type": "markdown",
   "id": "dying-williams",
   "metadata": {},
   "source": [
    "Using pandas (.corr). "
   ]
  },
  {
   "cell_type": "markdown",
   "id": "distant-american",
   "metadata": {},
   "source": [
    "Method of correlation:\n",
    "    pearson: standard correlation coefficient\n",
    "    kendall: Kendall Tau correlation coefficient\n",
    "    spearman: Spearman rank correlation\n",
    "Source: https://pandas.pydata.org/pandas-docs/stable/reference/api/pandas.DataFrame.corr.html"
   ]
  },
  {
   "cell_type": "code",
   "execution_count": 16,
   "id": "another-incentive",
   "metadata": {},
   "outputs": [],
   "source": [
    "method = 'pearson' # method='spearman' | method='kendall' | default: 'pearson'"
   ]
  },
  {
   "cell_type": "code",
   "execution_count": 17,
   "id": "varied-profile",
   "metadata": {},
   "outputs": [],
   "source": [
    "corr_matrix = four_idx_1D.corr(method=method)"
   ]
  },
  {
   "cell_type": "code",
   "execution_count": 18,
   "id": "competent-happening",
   "metadata": {},
   "outputs": [
    {
     "data": {
      "text/html": [
       "<div>\n",
       "<style scoped>\n",
       "    .dataframe tbody tr th:only-of-type {\n",
       "        vertical-align: middle;\n",
       "    }\n",
       "\n",
       "    .dataframe tbody tr th {\n",
       "        vertical-align: top;\n",
       "    }\n",
       "\n",
       "    .dataframe thead th {\n",
       "        text-align: right;\n",
       "    }\n",
       "</style>\n",
       "<table border=\"1\" class=\"dataframe\">\n",
       "  <thead>\n",
       "    <tr style=\"text-align: right;\">\n",
       "      <th></th>\n",
       "      <th>SP500</th>\n",
       "      <th>NASDAQ</th>\n",
       "      <th>DowJones</th>\n",
       "      <th>Russell</th>\n",
       "    </tr>\n",
       "  </thead>\n",
       "  <tbody>\n",
       "    <tr>\n",
       "      <th>SP500</th>\n",
       "      <td>1.000000</td>\n",
       "      <td>0.975649</td>\n",
       "      <td>0.994410</td>\n",
       "      <td>0.980917</td>\n",
       "    </tr>\n",
       "    <tr>\n",
       "      <th>NASDAQ</th>\n",
       "      <td>0.975649</td>\n",
       "      <td>1.000000</td>\n",
       "      <td>0.960770</td>\n",
       "      <td>0.938576</td>\n",
       "    </tr>\n",
       "    <tr>\n",
       "      <th>DowJones</th>\n",
       "      <td>0.994410</td>\n",
       "      <td>0.960770</td>\n",
       "      <td>1.000000</td>\n",
       "      <td>0.982425</td>\n",
       "    </tr>\n",
       "    <tr>\n",
       "      <th>Russell</th>\n",
       "      <td>0.980917</td>\n",
       "      <td>0.938576</td>\n",
       "      <td>0.982425</td>\n",
       "      <td>1.000000</td>\n",
       "    </tr>\n",
       "  </tbody>\n",
       "</table>\n",
       "</div>"
      ],
      "text/plain": [
       "             SP500    NASDAQ  DowJones   Russell\n",
       "SP500     1.000000  0.975649  0.994410  0.980917\n",
       "NASDAQ    0.975649  1.000000  0.960770  0.938576\n",
       "DowJones  0.994410  0.960770  1.000000  0.982425\n",
       "Russell   0.980917  0.938576  0.982425  1.000000"
      ]
     },
     "execution_count": 18,
     "metadata": {},
     "output_type": "execute_result"
    }
   ],
   "source": [
    "corr_matrix"
   ]
  },
  {
   "cell_type": "markdown",
   "id": "introductory-tokyo",
   "metadata": {},
   "source": [
    "Using numpy (numpy.corrcoef)."
   ]
  },
  {
   "cell_type": "code",
   "execution_count": 36,
   "id": "stuck-authority",
   "metadata": {},
   "outputs": [],
   "source": [
    "four_idx_array = four_idx_1D.values.T"
   ]
  },
  {
   "cell_type": "code",
   "execution_count": 37,
   "id": "incredible-portfolio",
   "metadata": {},
   "outputs": [
    {
     "data": {
      "text/plain": [
       "(4, 4884)"
      ]
     },
     "execution_count": 37,
     "metadata": {},
     "output_type": "execute_result"
    }
   ],
   "source": [
    "four_idx_array.shape"
   ]
  },
  {
   "cell_type": "code",
   "execution_count": 38,
   "id": "united-brick",
   "metadata": {},
   "outputs": [],
   "source": [
    "R1 = np.corrcoef(four_idx_array)"
   ]
  },
  {
   "cell_type": "code",
   "execution_count": 39,
   "id": "sorted-underground",
   "metadata": {},
   "outputs": [
    {
     "data": {
      "text/plain": [
       "array([[1.        , 0.97564929, 0.99441041, 0.98091652],\n",
       "       [0.97564929, 1.        , 0.96077005, 0.93857594],\n",
       "       [0.99441041, 0.96077005, 1.        , 0.98242451],\n",
       "       [0.98091652, 0.93857594, 0.98242451, 1.        ]])"
      ]
     },
     "execution_count": 39,
     "metadata": {},
     "output_type": "execute_result"
    }
   ],
   "source": [
    "R1"
   ]
  },
  {
   "cell_type": "markdown",
   "id": "adverse-throat",
   "metadata": {},
   "source": [
    "Correlation visualization."
   ]
  },
  {
   "cell_type": "markdown",
   "id": "attended-klein",
   "metadata": {},
   "source": [
    "The background_gradient can be used - only for pandas DataFrame."
   ]
  },
  {
   "cell_type": "code",
   "execution_count": 52,
   "id": "illegal-capital",
   "metadata": {},
   "outputs": [
    {
     "data": {
      "text/html": [
       "<style  type=\"text/css\" >\n",
       "#T_d0e77_row0_col0,#T_d0e77_row1_col1,#T_d0e77_row2_col2,#T_d0e77_row3_col3{\n",
       "            background-color:  #000000;\n",
       "            color:  #f1f1f1;\n",
       "        }#T_d0e77_row0_col1,#T_d0e77_row1_col0{\n",
       "            background-color:  #505050;\n",
       "            color:  #f1f1f1;\n",
       "        }#T_d0e77_row0_col2,#T_d0e77_row2_col0{\n",
       "            background-color:  #101010;\n",
       "            color:  #f1f1f1;\n",
       "        }#T_d0e77_row0_col3,#T_d0e77_row3_col0{\n",
       "            background-color:  #3c3c3c;\n",
       "            color:  #f1f1f1;\n",
       "        }#T_d0e77_row1_col2,#T_d0e77_row2_col1{\n",
       "            background-color:  #787878;\n",
       "            color:  #000000;\n",
       "        }#T_d0e77_row1_col3,#T_d0e77_row3_col1{\n",
       "            background-color:  #bababa;\n",
       "            color:  #000000;\n",
       "        }#T_d0e77_row2_col3,#T_d0e77_row3_col2{\n",
       "            background-color:  #363636;\n",
       "            color:  #f1f1f1;\n",
       "        }</style><table id=\"T_d0e77_\" ><thead>    <tr>        <th class=\"blank level0\" ></th>        <th class=\"col_heading level0 col0\" >SP500</th>        <th class=\"col_heading level0 col1\" >NASDAQ</th>        <th class=\"col_heading level0 col2\" >DowJones</th>        <th class=\"col_heading level0 col3\" >Russell</th>    </tr></thead><tbody>\n",
       "                <tr>\n",
       "                        <th id=\"T_d0e77_level0_row0\" class=\"row_heading level0 row0\" >SP500</th>\n",
       "                        <td id=\"T_d0e77_row0_col0\" class=\"data row0 col0\" >1.000000</td>\n",
       "                        <td id=\"T_d0e77_row0_col1\" class=\"data row0 col1\" >0.975649</td>\n",
       "                        <td id=\"T_d0e77_row0_col2\" class=\"data row0 col2\" >0.994410</td>\n",
       "                        <td id=\"T_d0e77_row0_col3\" class=\"data row0 col3\" >0.980917</td>\n",
       "            </tr>\n",
       "            <tr>\n",
       "                        <th id=\"T_d0e77_level0_row1\" class=\"row_heading level0 row1\" >NASDAQ</th>\n",
       "                        <td id=\"T_d0e77_row1_col0\" class=\"data row1 col0\" >0.975649</td>\n",
       "                        <td id=\"T_d0e77_row1_col1\" class=\"data row1 col1\" >1.000000</td>\n",
       "                        <td id=\"T_d0e77_row1_col2\" class=\"data row1 col2\" >0.960770</td>\n",
       "                        <td id=\"T_d0e77_row1_col3\" class=\"data row1 col3\" >0.938576</td>\n",
       "            </tr>\n",
       "            <tr>\n",
       "                        <th id=\"T_d0e77_level0_row2\" class=\"row_heading level0 row2\" >DowJones</th>\n",
       "                        <td id=\"T_d0e77_row2_col0\" class=\"data row2 col0\" >0.994410</td>\n",
       "                        <td id=\"T_d0e77_row2_col1\" class=\"data row2 col1\" >0.960770</td>\n",
       "                        <td id=\"T_d0e77_row2_col2\" class=\"data row2 col2\" >1.000000</td>\n",
       "                        <td id=\"T_d0e77_row2_col3\" class=\"data row2 col3\" >0.982425</td>\n",
       "            </tr>\n",
       "            <tr>\n",
       "                        <th id=\"T_d0e77_level0_row3\" class=\"row_heading level0 row3\" >Russell</th>\n",
       "                        <td id=\"T_d0e77_row3_col0\" class=\"data row3 col0\" >0.980917</td>\n",
       "                        <td id=\"T_d0e77_row3_col1\" class=\"data row3 col1\" >0.938576</td>\n",
       "                        <td id=\"T_d0e77_row3_col2\" class=\"data row3 col2\" >0.982425</td>\n",
       "                        <td id=\"T_d0e77_row3_col3\" class=\"data row3 col3\" >1.000000</td>\n",
       "            </tr>\n",
       "    </tbody></table>"
      ],
      "text/plain": [
       "<pandas.io.formats.style.Styler at 0x3efa4488>"
      ]
     },
     "execution_count": 52,
     "metadata": {},
     "output_type": "execute_result"
    }
   ],
   "source": [
    "corr_matrix.style.background_gradient(cmap=\"Greys\", vmin=0.9, vmax=1)"
   ]
  },
  {
   "cell_type": "markdown",
   "id": "prospective-maintenance",
   "metadata": {},
   "source": [
    "The seaborn heatmap. Works for DataFrame and numpy array."
   ]
  },
  {
   "cell_type": "code",
   "execution_count": 73,
   "id": "chinese-attention",
   "metadata": {},
   "outputs": [],
   "source": [
    "def plot_corr_heatmap(data):\n",
    "    plt.figure(figsize=(12,12))\n",
    "    plt.title('Heatmap for main US idexes', fontsize='x-large')\n",
    "    sns.heatmap(data=data, vmin=0.9, vmax=1, annot=True, cmap=\"copper\")"
   ]
  },
  {
   "cell_type": "code",
   "execution_count": 74,
   "id": "genuine-agreement",
   "metadata": {},
   "outputs": [
    {
     "data": {
      "image/png": "[encoded data removed]",
      "text/plain": [
       "<Figure size 864x864 with 2 Axes>"
      ]
     },
     "metadata": {
      "needs_background": "light"
     },
     "output_type": "display_data"
    }
   ],
   "source": [
    "plot_corr_heatmap(corr_matrix)"
   ]
  },
  {
   "cell_type": "code",
   "execution_count": 75,
   "id": "seeing-locator",
   "metadata": {},
   "outputs": [
    {
     "data": {
      "image/png": "[encoded data removed]",
      "text/plain": [
       "<Figure size 864x864 with 2 Axes>"
      ]
     },
     "metadata": {
      "needs_background": "light"
     },
     "output_type": "display_data"
    }
   ],
   "source": [
    "plot_corr_heatmap(R1)"
   ]
  }
 ],
 "metadata": {
  "kernelspec": {
   "display_name": "Python 3",
   "language": "python",
   "name": "python3"
  },
  "language_info": {
   "codemirror_mode": {
    "name": "ipython",
    "version": 3
   },
   "file_extension": ".py",
   "mimetype": "text/x-python",
   "name": "python",
   "nbconvert_exporter": "python",
   "pygments_lexer": "ipython3",
   "version": "3.7.6"
  }
 },
 "nbformat": 4,
 "nbformat_minor": 5
}

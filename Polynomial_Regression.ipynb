{
 "cells": [
  {
   "cell_type": "markdown",
   "id": "canadian-match",
   "metadata": {},
   "source": [
    "# Polynomial Regression"
   ]
  },
  {
   "cell_type": "code",
   "execution_count": 29,
   "id": "grand-livestock",
   "metadata": {},
   "outputs": [],
   "source": [
    "import numpy as np\n",
    "import pandas as pd\n",
    "import matplotlib.pyplot as plt\n",
    "import seaborn as sns\n",
    "from sklearn.preprocessing import PolynomialFeatures\n",
    "from sklearn.linear_model import LinearRegression"
   ]
  },
  {
   "cell_type": "code",
   "execution_count": 22,
   "id": "accredited-material",
   "metadata": {},
   "outputs": [],
   "source": [
    "np.random.seed(24)"
   ]
  },
  {
   "cell_type": "markdown",
   "id": "surface-innocent",
   "metadata": {},
   "source": [
    "Define the polynomial function."
   ]
  },
  {
   "cell_type": "code",
   "execution_count": 3,
   "id": "further-season",
   "metadata": {},
   "outputs": [],
   "source": [
    "x = 4*np.random.rand(200, 1) - 2"
   ]
  },
  {
   "cell_type": "code",
   "execution_count": 4,
   "id": "quantitative-overhead",
   "metadata": {},
   "outputs": [],
   "source": [
    "y = 2*pow(x, 2) + 3*x + 7 + np.random.randn(200, 1)"
   ]
  },
  {
   "cell_type": "code",
   "execution_count": 5,
   "id": "initial-jesus",
   "metadata": {},
   "outputs": [
    {
     "data": {
      "text/plain": [
       "Text(0, 0.5, 'y')"
      ]
     },
     "execution_count": 5,
     "metadata": {},
     "output_type": "execute_result"
    },
    {
     "data": {
      "image/png": "[encoded data removed]",
      "text/plain": [
       "<Figure size 1080x576 with 1 Axes>"
      ]
     },
     "metadata": {
      "needs_background": "light"
     },
     "output_type": "display_data"
    }
   ],
   "source": [
    "plt.figure(figsize=(15,8))\n",
    "plt.title('Randomly generated polynomial data set', size='x-large')\n",
    "plt.scatter(x, y)\n",
    "plt.xlabel('x', loc='right', size='large')\n",
    "plt.ylabel('y', rotation=0, size='large')"
   ]
  },
  {
   "cell_type": "markdown",
   "id": "amateur-fraction",
   "metadata": {},
   "source": [
    "Polynomial Regression with numpy."
   ]
  },
  {
   "cell_type": "markdown",
   "id": "loose-butter",
   "metadata": {},
   "source": [
    "Calculate vector of coefficients."
   ]
  },
  {
   "cell_type": "code",
   "execution_count": 6,
   "id": "supposed-domain",
   "metadata": {},
   "outputs": [],
   "source": [
    "coef = np.polyfit(x.reshape(200), y.reshape(200), 2)"
   ]
  },
  {
   "cell_type": "code",
   "execution_count": 7,
   "id": "canadian-reading",
   "metadata": {},
   "outputs": [
    {
     "data": {
      "text/plain": [
       "array([2.02425593, 2.97507334, 6.87365715])"
      ]
     },
     "execution_count": 7,
     "metadata": {},
     "output_type": "execute_result"
    }
   ],
   "source": [
    "coef"
   ]
  },
  {
   "cell_type": "markdown",
   "id": "false-gilbert",
   "metadata": {},
   "source": [
    "Construct the polynomial function."
   ]
  },
  {
   "cell_type": "code",
   "execution_count": 8,
   "id": "higher-apparel",
   "metadata": {},
   "outputs": [],
   "source": [
    "pf = np.poly1d(coef)"
   ]
  },
  {
   "cell_type": "code",
   "execution_count": 9,
   "id": "functional-longer",
   "metadata": {},
   "outputs": [
    {
     "name": "stdout",
     "output_type": "stream",
     "text": [
      "       2\n",
      "2.024 x + 2.975 x + 6.874\n"
     ]
    }
   ],
   "source": [
    "print(pf)"
   ]
  },
  {
   "cell_type": "markdown",
   "id": "effective-enlargement",
   "metadata": {},
   "source": [
    "Let's test it and print the results."
   ]
  },
  {
   "cell_type": "code",
   "execution_count": 10,
   "id": "innocent-asian",
   "metadata": {},
   "outputs": [],
   "source": [
    "x_test = np.linspace(-2, 2, 200).reshape(200, 1)"
   ]
  },
  {
   "cell_type": "code",
   "execution_count": 11,
   "id": "identified-livestock",
   "metadata": {},
   "outputs": [],
   "source": [
    "y_test = coef[0]*pow(x_test, 2)+coef[1]*x_test+coef[2]"
   ]
  },
  {
   "cell_type": "code",
   "execution_count": 12,
   "id": "private-christian",
   "metadata": {},
   "outputs": [],
   "source": [
    "df = pd.DataFrame(y_test, columns=['y'])\n",
    "df['x'] = x_test"
   ]
  },
  {
   "cell_type": "code",
   "execution_count": 13,
   "id": "fatal-biology",
   "metadata": {},
   "outputs": [
    {
     "data": {
      "text/html": [
       "<div>\n",
       "<style scoped>\n",
       "    .dataframe tbody tr th:only-of-type {\n",
       "        vertical-align: middle;\n",
       "    }\n",
       "\n",
       "    .dataframe tbody tr th {\n",
       "        vertical-align: top;\n",
       "    }\n",
       "\n",
       "    .dataframe thead th {\n",
       "        text-align: right;\n",
       "    }\n",
       "</style>\n",
       "<table border=\"1\" class=\"dataframe\">\n",
       "  <thead>\n",
       "    <tr style=\"text-align: right;\">\n",
       "      <th></th>\n",
       "      <th>y</th>\n",
       "      <th>x</th>\n",
       "    </tr>\n",
       "  </thead>\n",
       "  <tbody>\n",
       "    <tr>\n",
       "      <th>0</th>\n",
       "      <td>9.020534</td>\n",
       "      <td>-2.000000</td>\n",
       "    </tr>\n",
       "    <tr>\n",
       "      <th>1</th>\n",
       "      <td>8.918398</td>\n",
       "      <td>-1.979899</td>\n",
       "    </tr>\n",
       "    <tr>\n",
       "      <th>2</th>\n",
       "      <td>8.817898</td>\n",
       "      <td>-1.959799</td>\n",
       "    </tr>\n",
       "    <tr>\n",
       "      <th>3</th>\n",
       "      <td>8.719034</td>\n",
       "      <td>-1.939698</td>\n",
       "    </tr>\n",
       "    <tr>\n",
       "      <th>4</th>\n",
       "      <td>8.621805</td>\n",
       "      <td>-1.919598</td>\n",
       "    </tr>\n",
       "    <tr>\n",
       "      <th>...</th>\n",
       "      <td>...</td>\n",
       "      <td>...</td>\n",
       "    </tr>\n",
       "    <tr>\n",
       "      <th>195</th>\n",
       "      <td>20.043694</td>\n",
       "      <td>1.919598</td>\n",
       "    </tr>\n",
       "    <tr>\n",
       "      <th>196</th>\n",
       "      <td>20.260524</td>\n",
       "      <td>1.939698</td>\n",
       "    </tr>\n",
       "    <tr>\n",
       "      <th>197</th>\n",
       "      <td>20.478990</td>\n",
       "      <td>1.959799</td>\n",
       "    </tr>\n",
       "    <tr>\n",
       "      <th>198</th>\n",
       "      <td>20.699091</td>\n",
       "      <td>1.979899</td>\n",
       "    </tr>\n",
       "    <tr>\n",
       "      <th>199</th>\n",
       "      <td>20.920828</td>\n",
       "      <td>2.000000</td>\n",
       "    </tr>\n",
       "  </tbody>\n",
       "</table>\n",
       "<p>200 rows × 2 columns</p>\n",
       "</div>"
      ],
      "text/plain": [
       "             y         x\n",
       "0     9.020534 -2.000000\n",
       "1     8.918398 -1.979899\n",
       "2     8.817898 -1.959799\n",
       "3     8.719034 -1.939698\n",
       "4     8.621805 -1.919598\n",
       "..         ...       ...\n",
       "195  20.043694  1.919598\n",
       "196  20.260524  1.939698\n",
       "197  20.478990  1.959799\n",
       "198  20.699091  1.979899\n",
       "199  20.920828  2.000000\n",
       "\n",
       "[200 rows x 2 columns]"
      ]
     },
     "execution_count": 13,
     "metadata": {},
     "output_type": "execute_result"
    }
   ],
   "source": [
    "df"
   ]
  },
  {
   "cell_type": "code",
   "execution_count": 14,
   "id": "employed-armor",
   "metadata": {},
   "outputs": [
    {
     "data": {
      "text/plain": [
       "Text(0, 0.5, 'y')"
      ]
     },
     "execution_count": 14,
     "metadata": {},
     "output_type": "execute_result"
    },
    {
     "data": {
      "image/png": "[encoded data removed]",
      "text/plain": [
       "<Figure size 1080x576 with 1 Axes>"
      ]
     },
     "metadata": {
      "needs_background": "light"
     },
     "output_type": "display_data"
    }
   ],
   "source": [
    "plt.figure(figsize=(15,8))\n",
    "plt.title('Polynomial regression for randomly generated data set', size='x-large')\n",
    "plt.scatter(x, y)\n",
    "sns.lineplot(data=df, x='x', y='y', color='black', linewidth=2)\n",
    "plt.xlabel('x', loc='right', size='large')\n",
    "plt.ylabel('y', rotation=0, size='large')"
   ]
  },
  {
   "cell_type": "markdown",
   "id": "large-belize",
   "metadata": {},
   "source": [
    "Polynomial Regression with sklearn. First the PolynomialFeatures is used to add extra feature for x, i.e. x^2. Then the calculation is done by LinearRegression."
   ]
  },
  {
   "cell_type": "code",
   "execution_count": 19,
   "id": "bronze-painting",
   "metadata": {},
   "outputs": [],
   "source": [
    "poly_f = PolynomialFeatures(degree=2, include_bias=False)\n",
    "x_pf = poly_f.fit_transform(x)"
   ]
  },
  {
   "cell_type": "code",
   "execution_count": 20,
   "id": "neural-charge",
   "metadata": {},
   "outputs": [
    {
     "data": {
      "text/plain": [
       "array([[ 7.65627053e-01,  5.86184784e-01],\n",
       "       [-1.17330779e+00,  1.37665118e+00],\n",
       "       [-1.30426367e+00,  1.70110372e+00],\n",
       "       [-1.47044173e+00,  2.16219888e+00],\n",
       "       [-1.85714686e+00,  3.44899444e+00],\n",
       "       [ 1.34778707e+00,  1.81652998e+00],\n",
       "       [ 1.52570978e+00,  2.32779033e+00],\n",
       "       [-2.80030975e-01,  7.84173471e-02],\n",
       "       [-1.69197503e+00,  2.86277949e+00],\n",
       "       [ 1.12778978e+00,  1.27190978e+00],\n",
       "       [ 1.97559081e+00,  3.90295905e+00],\n",
       "       [ 1.02571059e+00,  1.05208221e+00],\n",
       "       [-1.17513126e+00,  1.38093349e+00],\n",
       "       [ 1.52075899e+00,  2.31270789e+00],\n",
       "       [ 1.79477717e+00,  3.22122510e+00],\n",
       "       [-1.99410606e+00,  3.97645898e+00],\n",
       "       [-1.08355605e-01,  1.17409371e-02],\n",
       "       [ 1.95201937e+00,  3.81037961e+00],\n",
       "       [ 1.95974865e-01,  3.84061479e-02],\n",
       "       [ 5.32506366e-01,  2.83563030e-01],\n",
       "       [ 5.08502434e-01,  2.58574725e-01],\n",
       "       [ 1.78902137e+00,  3.20059745e+00],\n",
       "       [-2.17885032e-02,  4.74738871e-04],\n",
       "       [-1.27214924e+00,  1.61836368e+00],\n",
       "       [-3.58655560e-02,  1.28633810e-03],\n",
       "       [-1.40573250e+00,  1.97608387e+00],\n",
       "       [-8.79462251e-01,  7.73453851e-01],\n",
       "       [-1.98443485e+00,  3.93798168e+00],\n",
       "       [-1.19211532e+00,  1.42113893e+00],\n",
       "       [-1.16318380e+00,  1.35299656e+00],\n",
       "       [ 2.86517607e-01,  8.20923390e-02],\n",
       "       [ 7.99191594e-01,  6.38707204e-01],\n",
       "       [ 5.64895097e-01,  3.19106470e-01],\n",
       "       [-1.23733346e-01,  1.53099410e-02],\n",
       "       [ 1.55268995e+00,  2.41084609e+00],\n",
       "       [-9.22418744e-01,  8.50856339e-01],\n",
       "       [ 4.11891285e-01,  1.69654431e-01],\n",
       "       [-1.19243447e-01,  1.42189997e-02],\n",
       "       [ 3.54293902e-01,  1.25524169e-01],\n",
       "       [ 1.72244538e-01,  2.96681809e-02],\n",
       "       [-1.58190007e+00,  2.50240782e+00],\n",
       "       [-2.48925189e-01,  6.19637496e-02],\n",
       "       [ 5.82899313e-01,  3.39771609e-01],\n",
       "       [ 1.85267920e+00,  3.43242020e+00],\n",
       "       [-1.77509806e+00,  3.15097314e+00],\n",
       "       [ 1.60088552e+00,  2.56283444e+00],\n",
       "       [-1.68598750e+00,  2.84255385e+00],\n",
       "       [-9.51410303e-01,  9.05181564e-01],\n",
       "       [-3.61485430e-01,  1.30671716e-01],\n",
       "       [-5.13774940e-01,  2.63964689e-01],\n",
       "       [-1.72188317e+00,  2.96488165e+00],\n",
       "       [-7.23390991e-01,  5.23294527e-01],\n",
       "       [ 1.94019997e-02,  3.76437591e-04],\n",
       "       [ 2.91963299e-01,  8.52425677e-02],\n",
       "       [ 1.22828042e-01,  1.50867280e-02],\n",
       "       [-1.46153413e+00,  2.13608202e+00],\n",
       "       [ 1.08219401e+00,  1.17114387e+00],\n",
       "       [-1.52830480e+00,  2.33571557e+00],\n",
       "       [ 1.21038303e+00,  1.46502708e+00],\n",
       "       [ 2.90396539e-01,  8.43301499e-02],\n",
       "       [ 1.37376788e+00,  1.88723819e+00],\n",
       "       [-1.40131741e+00,  1.96369049e+00],\n",
       "       [-5.68016073e-02,  3.22642259e-03],\n",
       "       [ 5.95426916e-01,  3.54533212e-01],\n",
       "       [ 1.96496997e-01,  3.86110698e-02],\n",
       "       [ 1.37848028e+00,  1.90020789e+00],\n",
       "       [ 1.36466532e+00,  1.86231144e+00],\n",
       "       [ 1.62382150e-01,  2.63679628e-02],\n",
       "       [ 1.03739273e+00,  1.07618367e+00],\n",
       "       [ 1.09761961e+00,  1.20476880e+00],\n",
       "       [ 1.03348690e+00,  1.06809518e+00],\n",
       "       [ 1.26502740e+00,  1.60029433e+00],\n",
       "       [ 1.53526991e+00,  2.35705369e+00],\n",
       "       [-2.55910169e-02,  6.54900146e-04],\n",
       "       [ 1.93337499e+00,  3.73793884e+00],\n",
       "       [-9.98239444e-01,  9.96481988e-01],\n",
       "       [ 1.16813314e+00,  1.36453502e+00],\n",
       "       [-9.68167267e-01,  9.37347857e-01],\n",
       "       [-1.57079392e+00,  2.46739354e+00],\n",
       "       [-5.92678389e-01,  3.51267673e-01],\n",
       "       [ 8.61700631e-01,  7.42527978e-01],\n",
       "       [-1.47020426e+00,  2.16150058e+00],\n",
       "       [-1.27038019e+00,  1.61386581e+00],\n",
       "       [-2.26515404e-01,  5.13092283e-02],\n",
       "       [ 6.23000029e-03,  3.88129036e-05],\n",
       "       [ 3.68814265e-01,  1.36023962e-01],\n",
       "       [-3.77269584e-01,  1.42332339e-01],\n",
       "       [ 1.63329637e+00,  2.66765702e+00],\n",
       "       [-8.19822994e-01,  6.72109741e-01],\n",
       "       [-2.42413726e-01,  5.87644144e-02],\n",
       "       [ 4.74221522e-01,  2.24886052e-01],\n",
       "       [ 1.92916948e+00,  3.72169487e+00],\n",
       "       [ 8.67286264e-01,  7.52185463e-01],\n",
       "       [ 1.83677274e+00,  3.37373411e+00],\n",
       "       [ 9.18757760e-01,  8.44115822e-01],\n",
       "       [ 1.25251017e+00,  1.56878173e+00],\n",
       "       [ 1.40443638e-01,  1.97244154e-02],\n",
       "       [-8.00755317e-01,  6.41209078e-01],\n",
       "       [-5.30031109e-01,  2.80932976e-01],\n",
       "       [ 1.20426660e+00,  1.45025803e+00],\n",
       "       [-8.39318919e-01,  7.04456247e-01],\n",
       "       [-1.08388994e+00,  1.17481741e+00],\n",
       "       [-2.04909440e-01,  4.19878784e-02],\n",
       "       [-9.63614506e-01,  9.28552916e-01],\n",
       "       [-1.88174410e+00,  3.54096087e+00],\n",
       "       [-8.24045081e-01,  6.79050295e-01],\n",
       "       [-1.30642705e+00,  1.70675164e+00],\n",
       "       [-5.67349405e-02,  3.21885348e-03],\n",
       "       [ 1.23429472e+00,  1.52348345e+00],\n",
       "       [-1.14687724e+00,  1.31532740e+00],\n",
       "       [ 1.56596471e+00,  2.45224548e+00],\n",
       "       [-2.91737201e-01,  8.51105943e-02],\n",
       "       [ 1.38334229e+00,  1.91363588e+00],\n",
       "       [ 3.26085374e-01,  1.06331671e-01],\n",
       "       [-5.64074409e-01,  3.18179939e-01],\n",
       "       [ 1.86706879e+00,  3.48594588e+00],\n",
       "       [-2.83812317e-01,  8.05494314e-02],\n",
       "       [ 1.20312841e+00,  1.44751798e+00],\n",
       "       [-3.04084771e-01,  9.24675480e-02],\n",
       "       [ 1.41506356e+00,  2.00240488e+00],\n",
       "       [ 9.03505645e-01,  8.16322450e-01],\n",
       "       [ 1.27203200e+00,  1.61806542e+00],\n",
       "       [ 3.01168104e-01,  9.07022266e-02],\n",
       "       [-3.51670159e-01,  1.23671901e-01],\n",
       "       [ 5.66702538e-01,  3.21151767e-01],\n",
       "       [ 3.83314722e-01,  1.46930176e-01],\n",
       "       [ 1.94050064e+00,  3.76554273e+00],\n",
       "       [ 1.90102112e+00,  3.61388131e+00],\n",
       "       [ 1.19065448e+00,  1.41765809e+00],\n",
       "       [ 1.00534197e+00,  1.01071248e+00],\n",
       "       [ 2.19622781e-01,  4.82341660e-02],\n",
       "       [ 1.24967686e+00,  1.56169225e+00],\n",
       "       [ 4.64012894e-01,  2.15307965e-01],\n",
       "       [ 9.16421435e-01,  8.39828247e-01],\n",
       "       [-1.41460615e+00,  2.00111055e+00],\n",
       "       [-1.99511714e+00,  3.98049238e+00],\n",
       "       [-1.81000159e+00,  3.27610574e+00],\n",
       "       [ 7.51736736e-01,  5.65108120e-01],\n",
       "       [-1.31100199e+00,  1.71872623e+00],\n",
       "       [-3.23971661e-01,  1.04957637e-01],\n",
       "       [ 1.78077282e-01,  3.17115184e-02],\n",
       "       [-1.57651258e+00,  2.48539193e+00],\n",
       "       [-7.84119726e-01,  6.14843745e-01],\n",
       "       [-1.04028287e+00,  1.08218846e+00],\n",
       "       [-7.38600378e-01,  5.45530518e-01],\n",
       "       [-6.15388023e-01,  3.78702419e-01],\n",
       "       [ 5.93666090e-01,  3.52439426e-01],\n",
       "       [ 5.40296450e-01,  2.91920254e-01],\n",
       "       [ 3.65000398e-01,  1.33225290e-01],\n",
       "       [ 1.92827615e+00,  3.71824893e+00],\n",
       "       [-1.65503706e+00,  2.73914767e+00],\n",
       "       [ 1.59910494e-01,  2.55713662e-02],\n",
       "       [-8.83671063e-01,  7.80874547e-01],\n",
       "       [-3.14655516e-01,  9.90080938e-02],\n",
       "       [ 5.34842779e-01,  2.86056798e-01],\n",
       "       [ 1.29990176e+00,  1.68974458e+00],\n",
       "       [ 6.01014156e-01,  3.61218016e-01],\n",
       "       [-1.08883262e+00,  1.18555648e+00],\n",
       "       [ 2.03654684e-01,  4.14752301e-02],\n",
       "       [ 1.16483582e+00,  1.35684249e+00],\n",
       "       [-5.45806469e-01,  2.97904701e-01],\n",
       "       [-8.11460425e-01,  6.58468021e-01],\n",
       "       [ 6.73161088e-01,  4.53145851e-01],\n",
       "       [-1.33895767e+00,  1.79280765e+00],\n",
       "       [ 3.61933770e-01,  1.30996054e-01],\n",
       "       [-1.52420312e+00,  2.32319516e+00],\n",
       "       [ 1.83436486e+00,  3.36489446e+00],\n",
       "       [-7.17890302e-01,  5.15366486e-01],\n",
       "       [-6.72935040e-01,  4.52841568e-01],\n",
       "       [ 6.02529310e-01,  3.63041569e-01],\n",
       "       [ 2.08013467e-01,  4.32696023e-02],\n",
       "       [ 6.59762793e-01,  4.35286943e-01],\n",
       "       [ 1.27385190e+00,  1.62269866e+00],\n",
       "       [-4.06587089e-01,  1.65313061e-01],\n",
       "       [-3.12229538e-01,  9.74872846e-02],\n",
       "       [-6.27312119e-01,  3.93520494e-01],\n",
       "       [ 6.96533140e-01,  4.85158415e-01],\n",
       "       [ 1.65256261e+00,  2.73096319e+00],\n",
       "       [-4.63644509e-01,  2.14966230e-01],\n",
       "       [ 1.75909649e+00,  3.09442048e+00],\n",
       "       [ 1.49875487e+00,  2.24626616e+00],\n",
       "       [-2.92333305e-01,  8.54587610e-02],\n",
       "       [-6.67087202e-01,  4.45005335e-01],\n",
       "       [-3.28884058e-01,  1.08164724e-01],\n",
       "       [-1.39216972e+00,  1.93813654e+00],\n",
       "       [-5.68514562e-01,  3.23208808e-01],\n",
       "       [-3.70370111e-01,  1.37174019e-01],\n",
       "       [-7.21659941e-01,  5.20793070e-01],\n",
       "       [ 1.67578688e-02,  2.80826166e-04],\n",
       "       [ 6.04362917e-01,  3.65254535e-01],\n",
       "       [ 1.88377253e+00,  3.54859896e+00],\n",
       "       [ 7.10477112e-01,  5.04777727e-01],\n",
       "       [-1.15409716e+00,  1.33194025e+00],\n",
       "       [ 1.94433484e+00,  3.78043795e+00],\n",
       "       [ 1.80094857e+00,  3.24341574e+00],\n",
       "       [ 1.49087578e+00,  2.22271059e+00],\n",
       "       [-2.18489420e-01,  4.77376267e-02],\n",
       "       [-1.54379208e+00,  2.38329400e+00],\n",
       "       [ 1.98253014e+00,  3.93042574e+00],\n",
       "       [-1.60531090e+00,  2.57702308e+00]])"
      ]
     },
     "execution_count": 20,
     "metadata": {},
     "output_type": "execute_result"
    }
   ],
   "source": [
    "x_pf"
   ]
  },
  {
   "cell_type": "markdown",
   "id": "little-edinburgh",
   "metadata": {},
   "source": [
    "Now let's use the LinearRegression to get the results."
   ]
  },
  {
   "cell_type": "code",
   "execution_count": 30,
   "id": "separate-point",
   "metadata": {},
   "outputs": [
    {
     "data": {
      "text/plain": [
       "LinearRegression()"
      ]
     },
     "execution_count": 30,
     "metadata": {},
     "output_type": "execute_result"
    }
   ],
   "source": [
    "l_reg = LinearRegression()\n",
    "l_reg.fit(x_pf, y)"
   ]
  },
  {
   "cell_type": "code",
   "execution_count": 31,
   "id": "native-atmosphere",
   "metadata": {},
   "outputs": [
    {
     "data": {
      "text/plain": [
       "(array([6.87365715]), array([[2.97507334, 2.02425593]]))"
      ]
     },
     "execution_count": 31,
     "metadata": {},
     "output_type": "execute_result"
    }
   ],
   "source": [
    "l_reg.intercept_, l_reg.coef_"
   ]
  },
  {
   "cell_type": "code",
   "execution_count": 38,
   "id": "medical-peter",
   "metadata": {},
   "outputs": [],
   "source": [
    "x_test_poly = poly_f.transform(x_test)\n",
    "y_pred = l_reg.predict(x_test_poly)"
   ]
  },
  {
   "cell_type": "code",
   "execution_count": 40,
   "id": "ceramic-williams",
   "metadata": {},
   "outputs": [
    {
     "data": {
      "text/plain": [
       "Text(0, 0.5, 'y')"
      ]
     },
     "execution_count": 40,
     "metadata": {},
     "output_type": "execute_result"
    },
    {
     "data": {
      "image/png": "[encoded data removed]",
      "text/plain": [
       "<Figure size 1080x576 with 1 Axes>"
      ]
     },
     "metadata": {
      "needs_background": "light"
     },
     "output_type": "display_data"
    }
   ],
   "source": [
    "plt.figure(figsize=(15,8))\n",
    "plt.title('Polynomial regression for randomly generated data set', size='x-large')\n",
    "plt.scatter(x, y)\n",
    "plt.plot(x_test, y_pred, color='black', linewidth=3)\n",
    "plt.xlabel('x', loc='right', size='large')\n",
    "plt.ylabel('y', rotation=0, size='large')"
   ]
  }
 ],
 "metadata": {
  "kernelspec": {
   "display_name": "Python 3",
   "language": "python",
   "name": "python3"
  },
  "language_info": {
   "codemirror_mode": {
    "name": "ipython",
    "version": 3
   },
   "file_extension": ".py",
   "mimetype": "text/x-python",
   "name": "python",
   "nbconvert_exporter": "python",
   "pygments_lexer": "ipython3",
   "version": "3.7.6"
  }
 },
 "nbformat": 4,
 "nbformat_minor": 5
}

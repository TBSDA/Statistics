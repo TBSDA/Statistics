{
 "cells": [
  {
   "cell_type": "markdown",
   "id": "special-oxygen",
   "metadata": {},
   "source": [
    "# Order Statistics"
   ]
  },
  {
   "cell_type": "markdown",
   "id": "hawaiian-hebrew",
   "metadata": {},
   "source": [
    "Percentile and Quantile"
   ]
  },
  {
   "cell_type": "code",
   "execution_count": 53,
   "id": "piano-basics",
   "metadata": {},
   "outputs": [],
   "source": [
    "import numpy as np\n",
    "import pandas as pd\n",
    "import matplotlib.pyplot as plt\n",
    "import seaborn as sns"
   ]
  },
  {
   "cell_type": "markdown",
   "id": "civilian-worry",
   "metadata": {},
   "source": [
    "Generate random array."
   ]
  },
  {
   "cell_type": "code",
   "execution_count": 54,
   "id": "extensive-category",
   "metadata": {},
   "outputs": [],
   "source": [
    "data = np.random.randint(14, 63, 1000)"
   ]
  },
  {
   "cell_type": "code",
   "execution_count": 55,
   "id": "elegant-generation",
   "metadata": {},
   "outputs": [
    {
     "data": {
      "text/plain": [
       "array([62, 17, 33, 18, 44, 26, 47, 19, 36, 24, 61, 25, 62, 28, 51, 19, 55,\n",
       "       15, 21, 56, 34, 17, 14, 20, 38, 40, 14, 60, 46, 39, 16, 59, 28, 36,\n",
       "       48, 25, 25, 46, 39, 61, 43, 38, 35, 37, 38, 27, 35, 37, 48, 33, 43,\n",
       "       52, 31, 37, 44, 58, 46, 19, 17, 15, 31, 18, 32, 56, 58, 39, 58, 20,\n",
       "       52, 59, 45, 28, 41, 50, 25, 31, 16, 21, 33, 41, 34, 48, 46, 34, 36,\n",
       "       18, 22, 59, 58, 34, 49, 18, 26, 39, 55, 48, 39, 47, 56, 62, 28, 54,\n",
       "       33, 27, 62, 36, 50, 22, 22, 51, 45, 62, 17, 46, 35, 22, 46, 50, 23,\n",
       "       26, 16, 26, 48, 57, 40, 62, 31, 15, 57, 21, 59, 55, 17, 32, 18, 41,\n",
       "       16, 20, 27, 47, 15, 48, 43, 61, 39, 37, 24, 15, 42, 50, 14, 26, 37,\n",
       "       26, 31, 42, 47, 39, 55, 20, 35, 15, 24, 45, 31, 35, 61, 34, 62, 33,\n",
       "       61, 15, 47, 60, 27, 42, 39, 61, 15, 19, 54, 45, 53, 21, 25, 38, 20,\n",
       "       49, 46, 34, 59, 42, 38, 38, 42, 23, 26, 14, 35, 52, 19, 45, 19, 49,\n",
       "       53, 60, 35, 33, 31, 48, 21, 35, 35, 43, 44, 21, 39, 53, 42, 59, 60,\n",
       "       60, 29, 46, 39, 32, 37, 48, 29, 47, 27, 25, 55, 17, 39, 40, 40, 20,\n",
       "       28, 33, 41, 41, 19, 14, 37, 44, 46, 43, 30, 30, 31, 26, 45, 31, 20,\n",
       "       51, 17, 27, 36, 15, 34, 37, 21, 39, 37, 36, 26, 43, 15, 15, 54, 20,\n",
       "       59, 41, 51, 31, 23, 34, 20, 62, 27, 16, 36, 39, 51, 27, 42, 33, 49,\n",
       "       48, 23, 62, 26, 33, 52, 56, 47, 34, 32, 62, 53, 22, 24, 27, 27, 40,\n",
       "       45, 16, 58, 25, 20, 20, 31, 38, 62, 37, 51, 56, 24, 55, 16, 57, 18,\n",
       "       58, 42, 17, 61, 52, 58, 31, 47, 26, 29, 54, 25, 21, 42, 33, 23, 60,\n",
       "       17, 55, 54, 15, 52, 57, 46, 30, 61, 14, 28, 57, 55, 60, 40, 53, 41,\n",
       "       28, 34, 33, 44, 40, 20, 33, 51, 48, 22, 54, 37, 50, 14, 20, 32, 55,\n",
       "       26, 28, 24, 21, 15, 19, 16, 21, 39, 15, 22, 54, 62, 62, 51, 26, 57,\n",
       "       60, 49, 60, 36, 44, 44, 61, 27, 31, 44, 57, 15, 44, 58, 62, 17, 18,\n",
       "       21, 57, 49, 16, 46, 25, 59, 54, 48, 53, 57, 54, 38, 15, 17, 21, 41,\n",
       "       48, 55, 60, 30, 23, 20, 19, 44, 55, 20, 16, 54, 30, 34, 27, 57, 16,\n",
       "       58, 59, 30, 22, 51, 20, 54, 40, 24, 35, 50, 53, 32, 42, 36, 26, 60,\n",
       "       43, 24, 56, 28, 47, 27, 18, 36, 33, 17, 60, 32, 18, 22, 57, 62, 19,\n",
       "       22, 48, 15, 42, 21, 16, 32, 57, 24, 46, 47, 38, 62, 57, 35, 20, 56,\n",
       "       44, 20, 52, 42, 59, 41, 47, 60, 21, 50, 44, 58, 15, 62, 40, 58, 62,\n",
       "       29, 62, 26, 21, 40, 19, 50, 33, 35, 44, 30, 44, 51, 39, 17, 54, 40,\n",
       "       30, 61, 25, 21, 25, 34, 55, 38, 37, 54, 23, 21, 41, 28, 44, 51, 27,\n",
       "       27, 20, 14, 15, 50, 54, 57, 16, 55, 49, 31, 39, 32, 14, 54, 37, 38,\n",
       "       23, 44, 31, 52, 45, 58, 48, 58, 49, 34, 26, 31, 54, 31, 48, 61, 26,\n",
       "       17, 39, 21, 45, 46, 30, 21, 21, 41, 34, 18, 54, 34, 38, 40, 57, 14,\n",
       "       23, 21, 50, 53, 56, 16, 36, 34, 54, 42, 26, 14, 47, 57, 26, 17, 59,\n",
       "       27, 42, 29, 30, 29, 21, 17, 52, 61, 29, 44, 40, 32, 47, 60, 39, 55,\n",
       "       52, 48, 52, 45, 26, 28, 23, 22, 58, 50, 21, 56, 49, 39, 37, 46, 57,\n",
       "       29, 15, 55, 29, 17, 37, 25, 34, 51, 54, 42, 34, 25, 43, 19, 17, 62,\n",
       "       55, 38, 15, 18, 39, 43, 42, 52, 60, 28, 46, 57, 27, 41, 54, 60, 15,\n",
       "       58, 27, 55, 62, 42, 27, 58, 54, 56, 38, 41, 54, 54, 62, 29, 34, 49,\n",
       "       31, 54, 16, 34, 60, 62, 18, 27, 56, 59, 21, 48, 30, 59, 54, 24, 53,\n",
       "       29, 27, 39, 46, 56, 16, 21, 59, 44, 61, 32, 16, 48, 57, 21, 29, 50,\n",
       "       57, 35, 25, 37, 47, 54, 55, 48, 39, 36, 45, 25, 44, 22, 26, 37, 14,\n",
       "       20, 51, 16, 20, 14, 17, 17, 31, 51, 16, 38, 28, 29, 21, 25, 32, 22,\n",
       "       47, 39, 39, 38, 57, 61, 44, 43, 37, 15, 21, 60, 31, 61, 16, 47, 52,\n",
       "       53, 24, 44, 27, 34, 20, 24, 61, 15, 44, 60, 62, 55, 15, 53, 39, 45,\n",
       "       57, 18, 47, 62, 14, 53, 26, 20, 27, 17, 30, 35, 16, 45, 57, 19, 30,\n",
       "       62, 62, 26, 51, 55, 23, 42, 20, 56, 57, 56, 48, 17, 58, 61, 53, 32,\n",
       "       29, 42, 34, 60, 61, 54, 29, 50, 59, 24, 28, 50, 15, 42, 44, 59, 43,\n",
       "       56, 50, 39, 53, 55, 18, 20, 54, 24, 61, 31, 36, 28, 30, 19, 53, 20,\n",
       "       30, 21, 47, 52, 24, 52, 32, 53, 16, 35, 50, 38, 28, 33, 34, 22, 18,\n",
       "       60, 46, 19, 20, 21, 42, 44, 57, 54, 32, 43, 27, 43, 16, 34, 26, 49,\n",
       "       33, 35, 41, 20, 25, 26, 38, 44, 59, 59, 51, 46, 31, 29, 41, 39, 53,\n",
       "       45, 14, 19, 28, 42, 25, 21, 39, 35, 38, 25, 51, 27, 62, 56, 47, 54,\n",
       "       33, 52, 36, 29, 15, 33, 32, 49, 39, 40, 36, 15, 59, 14, 44, 17, 19,\n",
       "       21, 58, 45, 24, 37, 42, 59, 23, 53, 19, 36, 53, 34, 16, 20, 42, 19,\n",
       "       48, 20, 20, 41, 50, 41, 38, 53, 25, 20, 62, 22, 52, 27, 24, 54, 28,\n",
       "       45, 52, 49, 62, 37, 45, 42, 43, 22, 18, 47, 29, 49, 32])"
      ]
     },
     "execution_count": 55,
     "metadata": {},
     "output_type": "execute_result"
    }
   ],
   "source": [
    "data"
   ]
  },
  {
   "cell_type": "markdown",
   "id": "recognized-karma",
   "metadata": {},
   "source": [
    "For order statistics we can use numpy.percentile and numpy.quantile."
   ]
  },
  {
   "cell_type": "markdown",
   "id": "first-northwest",
   "metadata": {},
   "source": [
    "Percentile 50th means that 50% of the data is below the point (median)."
   ]
  },
  {
   "cell_type": "code",
   "execution_count": 56,
   "id": "spatial-grave",
   "metadata": {},
   "outputs": [
    {
     "data": {
      "text/plain": [
       "38.0"
      ]
     },
     "execution_count": 56,
     "metadata": {},
     "output_type": "execute_result"
    }
   ],
   "source": [
    "np.percentile(data, 50)"
   ]
  },
  {
   "cell_type": "code",
   "execution_count": 57,
   "id": "happy-burden",
   "metadata": {},
   "outputs": [
    {
     "data": {
      "text/plain": [
       "38.0"
      ]
     },
     "execution_count": 57,
     "metadata": {},
     "output_type": "execute_result"
    }
   ],
   "source": [
    "np.median(data)"
   ]
  },
  {
   "cell_type": "markdown",
   "id": "acute-sampling",
   "metadata": {},
   "source": [
    "The 25th, 50th and 75th are called quartile"
   ]
  },
  {
   "cell_type": "code",
   "execution_count": 58,
   "id": "persistent-format",
   "metadata": {},
   "outputs": [
    {
     "data": {
      "text/plain": [
       "25.0"
      ]
     },
     "execution_count": 58,
     "metadata": {},
     "output_type": "execute_result"
    }
   ],
   "source": [
    "np.percentile(data, 25)"
   ]
  },
  {
   "cell_type": "code",
   "execution_count": 59,
   "id": "accessory-convert",
   "metadata": {},
   "outputs": [
    {
     "data": {
      "text/plain": [
       "38.0"
      ]
     },
     "execution_count": 59,
     "metadata": {},
     "output_type": "execute_result"
    }
   ],
   "source": [
    "np.percentile(data, 50)"
   ]
  },
  {
   "cell_type": "code",
   "execution_count": 60,
   "id": "according-beads",
   "metadata": {},
   "outputs": [
    {
     "data": {
      "text/plain": [
       "51.0"
      ]
     },
     "execution_count": 60,
     "metadata": {},
     "output_type": "execute_result"
    }
   ],
   "source": [
    "np.percentile(data, 75)"
   ]
  },
  {
   "cell_type": "markdown",
   "id": "configured-modeling",
   "metadata": {},
   "source": [
    "The 10th, 20th, ..., 90th are called decile"
   ]
  },
  {
   "cell_type": "code",
   "execution_count": 61,
   "id": "described-booth",
   "metadata": {},
   "outputs": [
    {
     "data": {
      "text/plain": [
       "array([18., 22., 27., 33., 38., 43., 48., 54., 58.])"
      ]
     },
     "execution_count": 61,
     "metadata": {},
     "output_type": "execute_result"
    }
   ],
   "source": [
    "np.percentile(data, [x for x in range(10, 100, 10)])"
   ]
  },
  {
   "cell_type": "markdown",
   "id": "accomplished-boutique",
   "metadata": {},
   "source": [
    "We can also use quantile to create ranks."
   ]
  },
  {
   "cell_type": "code",
   "execution_count": 65,
   "id": "honest-maker",
   "metadata": {},
   "outputs": [
    {
     "data": {
      "text/plain": [
       "array([25., 38., 51.])"
      ]
     },
     "execution_count": 65,
     "metadata": {},
     "output_type": "execute_result"
    }
   ],
   "source": [
    "#quartiles\n",
    "np.quantile(data, [.25, .5, .75])"
   ]
  },
  {
   "cell_type": "code",
   "execution_count": 66,
   "id": "piano-universe",
   "metadata": {},
   "outputs": [
    {
     "data": {
      "text/plain": [
       "array([18., 22., 27., 33., 38., 43., 48., 54., 58.])"
      ]
     },
     "execution_count": 66,
     "metadata": {},
     "output_type": "execute_result"
    }
   ],
   "source": [
    "#deciles\n",
    "np.quantile(data, [x/100 for x in range(10, 100, 10)])"
   ]
  },
  {
   "cell_type": "markdown",
   "id": "presidential-junction",
   "metadata": {},
   "source": [
    "Pandas offers function to divide ordered data into equal parts. Following the documentation: \"Discretize variable into equal-sized buckets based on rank or based on sample quantiles.\""
   ]
  },
  {
   "cell_type": "code",
   "execution_count": 67,
   "id": "every-interference",
   "metadata": {},
   "outputs": [
    {
     "data": {
      "text/plain": [
       "array([3, 0, 1, 0, 2, 1, 2, 0, 1, 0, 3, 0, 3, 1, 2, 0, 3, 0, 0, 3, 1, 0,\n",
       "       0, 0, 1, 2, 0, 3, 2, 2, 0, 3, 1, 1, 2, 0, 0, 2, 2, 3, 2, 1, 1, 1,\n",
       "       1, 1, 1, 1, 2, 1, 2, 3, 1, 1, 2, 3, 2, 0, 0, 0, 1, 0, 1, 3, 3, 2,\n",
       "       3, 0, 3, 3, 2, 1, 2, 2, 0, 1, 0, 0, 1, 2, 1, 2, 2, 1, 1, 0, 0, 3,\n",
       "       3, 1, 2, 0, 1, 2, 3, 2, 2, 2, 3, 3, 1, 3, 1, 1, 3, 1, 2, 0, 0, 2,\n",
       "       2, 3, 0, 2, 1, 0, 2, 2, 0, 1, 0, 1, 2, 3, 2, 3, 1, 0, 3, 0, 3, 3,\n",
       "       0, 1, 0, 2, 0, 0, 1, 2, 0, 2, 2, 3, 2, 1, 0, 0, 2, 2, 0, 1, 1, 1,\n",
       "       1, 2, 2, 2, 3, 0, 1, 0, 0, 2, 1, 1, 3, 1, 3, 1, 3, 0, 2, 3, 1, 2,\n",
       "       2, 3, 0, 0, 3, 2, 3, 0, 0, 1, 0, 2, 2, 1, 3, 2, 1, 1, 2, 0, 1, 0,\n",
       "       1, 3, 0, 2, 0, 2, 3, 3, 1, 1, 1, 2, 0, 1, 1, 2, 2, 0, 2, 3, 2, 3,\n",
       "       3, 3, 1, 2, 2, 1, 1, 2, 1, 2, 1, 0, 3, 0, 2, 2, 2, 0, 1, 1, 2, 2,\n",
       "       0, 0, 1, 2, 2, 2, 1, 1, 1, 1, 2, 1, 0, 2, 0, 1, 1, 0, 1, 1, 0, 2,\n",
       "       1, 1, 1, 2, 0, 0, 3, 0, 3, 2, 2, 1, 0, 1, 0, 3, 1, 0, 1, 2, 2, 1,\n",
       "       2, 1, 2, 2, 0, 3, 1, 1, 3, 3, 2, 1, 1, 3, 3, 0, 0, 1, 1, 2, 2, 0,\n",
       "       3, 0, 0, 0, 1, 1, 3, 1, 2, 3, 0, 3, 0, 3, 0, 3, 2, 0, 3, 3, 3, 1,\n",
       "       2, 1, 1, 3, 0, 0, 2, 1, 0, 3, 0, 3, 3, 0, 3, 3, 2, 1, 3, 0, 1, 3,\n",
       "       3, 3, 2, 3, 2, 1, 1, 1, 2, 2, 0, 1, 2, 2, 0, 3, 1, 2, 0, 0, 1, 3,\n",
       "       1, 1, 0, 0, 0, 0, 0, 0, 2, 0, 0, 3, 3, 3, 2, 1, 3, 3, 2, 3, 1, 2,\n",
       "       2, 3, 1, 1, 2, 3, 0, 2, 3, 3, 0, 0, 0, 3, 2, 0, 2, 0, 3, 3, 2, 3,\n",
       "       3, 3, 1, 0, 0, 0, 2, 2, 3, 3, 1, 0, 0, 0, 2, 3, 0, 0, 3, 1, 1, 1,\n",
       "       3, 0, 3, 3, 1, 0, 2, 0, 3, 2, 0, 1, 2, 3, 1, 2, 1, 1, 3, 2, 0, 3,\n",
       "       1, 2, 1, 0, 1, 1, 0, 3, 1, 0, 0, 3, 3, 0, 0, 2, 0, 2, 0, 0, 1, 3,\n",
       "       0, 2, 2, 1, 3, 3, 1, 0, 3, 2, 0, 3, 2, 3, 2, 2, 3, 0, 2, 2, 3, 0,\n",
       "       3, 2, 3, 3, 1, 3, 1, 0, 2, 0, 2, 1, 1, 2, 1, 2, 2, 2, 0, 3, 2, 1,\n",
       "       3, 0, 0, 0, 1, 3, 1, 1, 3, 0, 0, 2, 1, 2, 2, 1, 1, 0, 0, 0, 2, 3,\n",
       "       3, 0, 3, 2, 1, 2, 1, 0, 3, 1, 1, 0, 2, 1, 3, 2, 3, 2, 3, 2, 1, 1,\n",
       "       1, 3, 1, 2, 3, 1, 0, 2, 0, 2, 2, 1, 0, 0, 2, 1, 0, 3, 1, 1, 2, 3,\n",
       "       0, 0, 0, 2, 3, 3, 0, 1, 1, 3, 2, 1, 0, 2, 3, 1, 0, 3, 1, 2, 1, 1,\n",
       "       1, 0, 0, 3, 3, 1, 2, 2, 1, 2, 3, 2, 3, 3, 2, 3, 2, 1, 1, 0, 0, 3,\n",
       "       2, 0, 3, 2, 2, 1, 2, 3, 1, 0, 3, 1, 0, 1, 0, 1, 2, 3, 2, 1, 0, 2,\n",
       "       0, 0, 3, 3, 1, 0, 0, 2, 2, 2, 3, 3, 1, 2, 3, 1, 2, 3, 3, 0, 3, 1,\n",
       "       3, 3, 2, 1, 3, 3, 3, 1, 2, 3, 3, 3, 1, 1, 2, 1, 3, 0, 1, 3, 3, 0,\n",
       "       1, 3, 3, 0, 2, 1, 3, 3, 0, 3, 1, 1, 2, 2, 3, 0, 0, 3, 2, 3, 1, 0,\n",
       "       2, 3, 0, 1, 2, 3, 1, 0, 1, 2, 3, 3, 2, 2, 1, 2, 0, 2, 0, 1, 1, 0,\n",
       "       0, 2, 0, 0, 0, 0, 0, 1, 2, 0, 1, 1, 1, 0, 0, 1, 0, 2, 2, 2, 1, 3,\n",
       "       3, 2, 2, 1, 0, 0, 3, 1, 3, 0, 2, 3, 3, 0, 2, 1, 1, 0, 0, 3, 0, 2,\n",
       "       3, 3, 3, 0, 3, 2, 2, 3, 0, 2, 3, 0, 3, 1, 0, 1, 0, 1, 1, 0, 2, 3,\n",
       "       0, 1, 3, 3, 1, 2, 3, 0, 2, 0, 3, 3, 3, 2, 0, 3, 3, 3, 1, 1, 2, 1,\n",
       "       3, 3, 3, 1, 2, 3, 0, 1, 2, 0, 2, 2, 3, 2, 3, 2, 2, 3, 3, 0, 0, 3,\n",
       "       0, 3, 1, 1, 1, 1, 0, 3, 0, 1, 0, 2, 3, 0, 3, 1, 3, 0, 1, 2, 1, 1,\n",
       "       1, 1, 0, 0, 3, 2, 0, 0, 0, 2, 2, 3, 3, 1, 2, 1, 2, 0, 1, 1, 2, 1,\n",
       "       1, 2, 0, 0, 1, 1, 2, 3, 3, 2, 2, 1, 1, 2, 2, 3, 2, 0, 0, 1, 2, 0,\n",
       "       0, 2, 1, 1, 0, 2, 1, 3, 3, 2, 3, 1, 3, 1, 1, 0, 1, 1, 2, 2, 2, 1,\n",
       "       0, 3, 0, 2, 0, 0, 0, 3, 2, 0, 1, 2, 3, 0, 3, 0, 1, 3, 1, 0, 0, 2,\n",
       "       0, 2, 0, 0, 2, 2, 2, 1, 3, 0, 0, 3, 0, 3, 1, 0, 3, 1, 2, 3, 2, 3,\n",
       "       1, 2, 2, 2, 0, 0, 2, 1, 2, 1], dtype=int64)"
      ]
     },
     "execution_count": 67,
     "metadata": {},
     "output_type": "execute_result"
    }
   ],
   "source": [
    "#quartiles\n",
    "pd.qcut(data, 4, labels=False) #labels=None gives the ranges, not rank value, e.g. (13.999, 26.0], (26.0, 39.0], (39.0, 50.0], (50.0, 62.0]"
   ]
  },
  {
   "cell_type": "code",
   "execution_count": 68,
   "id": "developing-draft",
   "metadata": {},
   "outputs": [
    {
     "data": {
      "text/plain": [
       "array([9, 0, 3, 0, 6, 2, 6, 1, 4, 2, 9, 2, 9, 3, 7, 1, 8, 0, 1, 8, 4, 0,\n",
       "       0, 1, 4, 5, 0, 9, 6, 5, 0, 9, 3, 4, 6, 2, 2, 6, 5, 9, 5, 4, 4, 4,\n",
       "       4, 2, 4, 4, 6, 3, 5, 7, 3, 4, 6, 8, 6, 1, 0, 0, 3, 0, 3, 8, 8, 5,\n",
       "       8, 1, 7, 9, 6, 3, 5, 7, 2, 3, 0, 1, 3, 5, 4, 6, 6, 4, 4, 0, 1, 9,\n",
       "       8, 4, 7, 0, 2, 5, 8, 6, 5, 6, 8, 9, 3, 7, 3, 2, 9, 4, 7, 1, 1, 7,\n",
       "       6, 9, 0, 6, 4, 1, 6, 7, 2, 2, 0, 2, 6, 8, 5, 9, 3, 0, 8, 1, 9, 8,\n",
       "       0, 3, 0, 5, 0, 1, 2, 6, 0, 6, 5, 9, 5, 4, 2, 0, 5, 7, 0, 2, 4, 2,\n",
       "       3, 5, 6, 5, 8, 1, 4, 0, 2, 6, 3, 4, 9, 4, 9, 3, 9, 0, 6, 9, 2, 5,\n",
       "       5, 9, 0, 1, 7, 6, 7, 1, 2, 4, 1, 7, 6, 4, 9, 5, 4, 4, 5, 2, 2, 0,\n",
       "       4, 7, 1, 6, 1, 7, 7, 9, 4, 3, 3, 6, 1, 4, 4, 5, 6, 1, 5, 7, 5, 9,\n",
       "       9, 9, 3, 6, 5, 3, 4, 6, 3, 6, 2, 2, 8, 0, 5, 5, 5, 1, 3, 3, 5, 5,\n",
       "       1, 0, 4, 6, 6, 5, 3, 3, 3, 2, 6, 3, 1, 7, 0, 2, 4, 0, 4, 4, 1, 5,\n",
       "       4, 4, 2, 5, 0, 0, 7, 1, 9, 5, 7, 3, 2, 4, 1, 9, 2, 0, 4, 5, 7, 2,\n",
       "       5, 3, 7, 6, 2, 9, 2, 3, 7, 8, 6, 4, 3, 9, 7, 1, 2, 2, 2, 5, 6, 0,\n",
       "       8, 2, 1, 1, 3, 4, 9, 4, 7, 8, 2, 8, 0, 8, 0, 8, 5, 0, 9, 7, 8, 3,\n",
       "       6, 2, 3, 7, 2, 1, 5, 3, 2, 9, 0, 8, 7, 0, 7, 8, 6, 3, 9, 0, 3, 8,\n",
       "       8, 9, 5, 7, 5, 3, 4, 3, 6, 5, 1, 3, 7, 6, 1, 7, 4, 7, 0, 1, 3, 8,\n",
       "       2, 3, 2, 1, 0, 1, 0, 1, 5, 0, 1, 7, 9, 9, 7, 2, 8, 9, 7, 9, 4, 6,\n",
       "       6, 9, 2, 3, 6, 8, 0, 6, 8, 9, 0, 0, 1, 8, 7, 0, 6, 2, 9, 7, 6, 7,\n",
       "       8, 7, 4, 0, 0, 1, 5, 6, 8, 9, 3, 2, 1, 1, 6, 8, 1, 0, 7, 3, 4, 2,\n",
       "       8, 0, 8, 9, 3, 1, 7, 1, 7, 5, 2, 4, 7, 7, 3, 5, 4, 2, 9, 5, 2, 8,\n",
       "       3, 6, 2, 0, 4, 3, 0, 9, 3, 0, 1, 8, 9, 1, 1, 6, 0, 5, 1, 0, 3, 8,\n",
       "       2, 6, 6, 4, 9, 8, 4, 1, 8, 6, 1, 7, 5, 9, 5, 6, 9, 1, 7, 6, 8, 0,\n",
       "       9, 5, 8, 9, 3, 9, 2, 1, 5, 1, 7, 3, 4, 6, 3, 6, 7, 5, 0, 7, 5, 3,\n",
       "       9, 2, 1, 2, 4, 8, 4, 4, 7, 2, 1, 5, 3, 6, 7, 2, 2, 1, 0, 0, 7, 7,\n",
       "       8, 0, 8, 7, 3, 5, 3, 0, 7, 4, 4, 2, 6, 3, 7, 6, 8, 6, 8, 7, 4, 2,\n",
       "       3, 7, 3, 6, 9, 2, 0, 5, 1, 6, 6, 3, 1, 1, 5, 4, 0, 7, 4, 4, 5, 8,\n",
       "       0, 2, 1, 7, 7, 8, 0, 4, 4, 7, 5, 2, 0, 6, 8, 2, 0, 9, 2, 5, 3, 3,\n",
       "       3, 1, 0, 7, 9, 3, 6, 5, 3, 6, 9, 5, 8, 7, 6, 7, 6, 2, 3, 2, 1, 8,\n",
       "       7, 1, 8, 7, 5, 4, 6, 8, 3, 0, 8, 3, 0, 4, 2, 4, 7, 7, 5, 4, 2, 5,\n",
       "       1, 0, 9, 8, 4, 0, 0, 5, 5, 5, 7, 9, 3, 6, 8, 2, 5, 7, 9, 0, 8, 2,\n",
       "       8, 9, 5, 2, 8, 7, 8, 4, 5, 7, 7, 9, 3, 4, 7, 3, 7, 0, 4, 9, 9, 0,\n",
       "       2, 8, 9, 1, 6, 3, 9, 7, 2, 7, 3, 2, 5, 6, 8, 0, 1, 9, 6, 9, 3, 0,\n",
       "       6, 8, 1, 3, 7, 8, 4, 2, 4, 6, 7, 8, 6, 5, 4, 6, 2, 6, 1, 2, 4, 0,\n",
       "       1, 7, 0, 1, 0, 0, 0, 3, 7, 0, 4, 3, 3, 1, 2, 3, 1, 6, 5, 5, 4, 8,\n",
       "       9, 6, 5, 4, 0, 1, 9, 3, 9, 0, 6, 7, 7, 2, 6, 2, 4, 1, 2, 9, 0, 6,\n",
       "       9, 9, 8, 0, 7, 5, 6, 8, 0, 6, 9, 0, 7, 2, 1, 2, 0, 3, 4, 0, 6, 8,\n",
       "       1, 3, 9, 9, 2, 7, 8, 2, 5, 1, 8, 8, 8, 6, 0, 8, 9, 7, 3, 3, 5, 4,\n",
       "       9, 9, 7, 3, 7, 9, 2, 3, 7, 0, 5, 6, 9, 5, 8, 7, 5, 7, 8, 0, 1, 7,\n",
       "       2, 9, 3, 4, 3, 3, 1, 7, 1, 3, 1, 6, 7, 2, 7, 3, 7, 0, 4, 7, 4, 3,\n",
       "       3, 4, 1, 0, 9, 6, 1, 1, 1, 5, 6, 8, 7, 3, 5, 2, 5, 0, 4, 2, 7, 3,\n",
       "       4, 5, 1, 2, 2, 4, 6, 9, 9, 7, 6, 3, 3, 5, 5, 7, 6, 0, 1, 3, 5, 2,\n",
       "       1, 5, 4, 4, 2, 7, 2, 9, 8, 6, 7, 3, 7, 4, 3, 0, 3, 3, 7, 5, 5, 4,\n",
       "       0, 9, 0, 6, 0, 1, 1, 8, 6, 2, 4, 5, 9, 2, 7, 1, 4, 7, 4, 0, 1, 5,\n",
       "       1, 6, 1, 1, 5, 7, 5, 4, 7, 2, 1, 9, 1, 7, 2, 2, 7, 3, 6, 7, 7, 9,\n",
       "       4, 6, 5, 5, 1, 0, 6, 3, 7, 3], dtype=int64)"
      ]
     },
     "execution_count": 68,
     "metadata": {},
     "output_type": "execute_result"
    }
   ],
   "source": [
    "#deciles\n",
    "pd.qcut(data, 10, labels=False)"
   ]
  },
  {
   "cell_type": "markdown",
   "id": "common-space",
   "metadata": {},
   "source": [
    "Numpy provide also the range of values (max - min)."
   ]
  },
  {
   "cell_type": "code",
   "execution_count": 69,
   "id": "alike-knock",
   "metadata": {},
   "outputs": [
    {
     "data": {
      "text/plain": [
       "48"
      ]
     },
     "execution_count": 69,
     "metadata": {},
     "output_type": "execute_result"
    }
   ],
   "source": [
    "np.ptp(data)"
   ]
  },
  {
   "cell_type": "markdown",
   "id": "israeli-forestry",
   "metadata": {},
   "source": [
    "Good mentioning here is also a histogram which divide the range of values into equal parts and count how many data fall into these bins."
   ]
  },
  {
   "cell_type": "code",
   "execution_count": 70,
   "id": "geological-dodge",
   "metadata": {},
   "outputs": [
    {
     "data": {
      "text/plain": [
       "(array([255, 237, 235, 273], dtype=int64), array([14., 26., 38., 50., 62.]))"
      ]
     },
     "execution_count": 70,
     "metadata": {},
     "output_type": "execute_result"
    }
   ],
   "source": [
    "np.histogram(data, 4)"
   ]
  },
  {
   "cell_type": "code",
   "execution_count": 71,
   "id": "opened-cartoon",
   "metadata": {},
   "outputs": [
    {
     "data": {
      "text/plain": [
       "(array([107, 111, 106,  90,  78, 105,  95,  87, 113, 108], dtype=int64),\n",
       " array([14. , 18.8, 23.6, 28.4, 33.2, 38. , 42.8, 47.6, 52.4, 57.2, 62. ]))"
      ]
     },
     "execution_count": 71,
     "metadata": {},
     "output_type": "execute_result"
    }
   ],
   "source": [
    "np.histogram(data)"
   ]
  },
  {
   "cell_type": "markdown",
   "id": "saving-listing",
   "metadata": {},
   "source": [
    "Histogram visualization."
   ]
  },
  {
   "cell_type": "code",
   "execution_count": 72,
   "id": "radio-composite",
   "metadata": {},
   "outputs": [
    {
     "data": {
      "text/plain": [
       "(array([107., 111., 106.,  90.,  78., 105.,  95.,  87., 113., 108.]),\n",
       " array([14. , 18.8, 23.6, 28.4, 33.2, 38. , 42.8, 47.6, 52.4, 57.2, 62. ]),\n",
       " <BarContainer object of 10 artists>)"
      ]
     },
     "execution_count": 72,
     "metadata": {},
     "output_type": "execute_result"
    },
    {
     "data": {
      "image/png": "[encoded data removed]",
      "text/plain": [
       "<Figure size 432x288 with 1 Axes>"
      ]
     },
     "metadata": {
      "needs_background": "light"
     },
     "output_type": "display_data"
    }
   ],
   "source": [
    "plt.hist(data)"
   ]
  },
  {
   "cell_type": "code",
   "execution_count": 73,
   "id": "thousand-escape",
   "metadata": {},
   "outputs": [
    {
     "data": {
      "text/plain": [
       "(array([255., 237., 235., 273.]),\n",
       " array([14., 26., 38., 50., 62.]),\n",
       " <BarContainer object of 4 artists>)"
      ]
     },
     "execution_count": 73,
     "metadata": {},
     "output_type": "execute_result"
    },
    {
     "data": {
      "image/png": "[encoded data removed]",
      "text/plain": [
       "<Figure size 432x288 with 1 Axes>"
      ]
     },
     "metadata": {
      "needs_background": "light"
     },
     "output_type": "display_data"
    }
   ],
   "source": [
    "plt.hist(data, 4)"
   ]
  },
  {
   "cell_type": "code",
   "execution_count": 74,
   "id": "hidden-reserve",
   "metadata": {},
   "outputs": [
    {
     "data": {
      "text/plain": [
       "<AxesSubplot:ylabel='Count'>"
      ]
     },
     "execution_count": 74,
     "metadata": {},
     "output_type": "execute_result"
    },
    {
     "data": {
      "image/png": "[encoded data removed]",
      "text/plain": [
       "<Figure size 432x288 with 1 Axes>"
      ]
     },
     "metadata": {
      "needs_background": "light"
     },
     "output_type": "display_data"
    }
   ],
   "source": [
    "sns.histplot(data)"
   ]
  },
  {
   "cell_type": "code",
   "execution_count": 75,
   "id": "developmental-revolution",
   "metadata": {},
   "outputs": [
    {
     "data": {
      "text/plain": [
       "<AxesSubplot:ylabel='Count'>"
      ]
     },
     "execution_count": 75,
     "metadata": {},
     "output_type": "execute_result"
    },
    {
     "data": {
      "image/png": "[encoded data removed]",
      "text/plain": [
       "<Figure size 432x288 with 1 Axes>"
      ]
     },
     "metadata": {
      "needs_background": "light"
     },
     "output_type": "display_data"
    }
   ],
   "source": [
    "sns.histplot(data, bins=4)"
   ]
  }
 ],
 "metadata": {
  "kernelspec": {
   "display_name": "Python 3",
   "language": "python",
   "name": "python3"
  },
  "language_info": {
   "codemirror_mode": {
    "name": "ipython",
    "version": 3
   },
   "file_extension": ".py",
   "mimetype": "text/x-python",
   "name": "python",
   "nbconvert_exporter": "python",
   "pygments_lexer": "ipython3",
   "version": "3.7.6"
  }
 },
 "nbformat": 4,
 "nbformat_minor": 5
}
